{
 "cells": [
  {
   "cell_type": "markdown",
   "metadata": {},
   "source": [
    "# 위.경도별 일사량 검토\n",
    "* 기상청의 지점별 위도 및 경도별 일사량을 DATA화"
   ]
  },
  {
   "cell_type": "code",
   "execution_count": 18,
   "metadata": {},
   "outputs": [],
   "source": [
    "from selenium import webdriver\n",
    "from bs4 import BeautifulSoup\n",
    "from urllib.request import urlopen\n",
    "import pandas as pd\n",
    "import re\n",
    "import urllib.parse\n",
    "import time"
   ]
  },
  {
   "cell_type": "code",
   "execution_count": 19,
   "metadata": {},
   "outputs": [
    {
     "name": "stdout",
     "output_type": "stream",
     "text": [
      "93\n"
     ]
    },
    {
     "data": {
      "text/plain": [
       "'168_93'"
      ]
     },
     "execution_count": 19,
     "metadata": {},
     "output_type": "execute_result"
    }
   ],
   "source": [
    "stninfo = pd.read_csv(\"./stninfo.csv\",encoding='EUC-KR')\n",
    "print(stninfo.iloc[1,0])\n",
    "i = 1\n",
    "jijum_name = str(stninfo.iloc[i,0])\n",
    "lat = stninfo.iloc[i,3]\n",
    "long = stninfo.iloc[i,4]\n",
    "search_year = \"2018\"\n",
    "jijum_name = \"168_\"+jijum_name\n",
    "jijum_name"
   ]
  },
  {
   "cell_type": "code",
   "execution_count": 20,
   "metadata": {},
   "outputs": [],
   "source": [
    "#C rome driver를 가상브라우져에 뛰우기 -----(1)\n",
    "browser = webdriver.Chrome (\"C:/webdriver/chromedriver\")\n",
    "# 3초 대기하기 ----(2)\n",
    "browser.implicitly_wait(3)"
   ]
  },
  {
   "cell_type": "code",
   "execution_count": 21,
   "metadata": {},
   "outputs": [],
   "source": [
    "url = \"https://data.kma.go.kr/data/grnd/selectAsosRltmList.do\"\n",
    "values = {\n",
    "          'pgmNo':'36',\n",
    "          'cmmnCdList':'F00501,F00502,F00503,F00512,F00513',\n",
    "          'dataFormCd':'F00513',\n",
    "          'dataReqstFileSn':\"\",\n",
    "          'dataReqstSn':\"\",\n",
    "          'dwldSetupPd':'0',\n",
    "          'elementCds':'SFC01055001,SFC01056001,SFC01048001,SFC01057001,SFC01057003',\n",
    "          'elementGroupSn':\"\",\n",
    "          'elementGroupSns':'299,300,302,305',\n",
    "          'endDt':'20190126,2018',\n",
    "          'endHh':'00', \n",
    "          'endMt':'12',\n",
    "          'endYear':search_year,\n",
    "          'firstLoading':'',\n",
    "          'lrgClssCd':'SFC',\n",
    "          'mddlClssCd':'SFC01',\n",
    "          'menuNo':'32',\n",
    "          'pageIndex':'',\n",
    "          'pageRowCount':'31',\n",
    "          'schListCnt':'20',\n",
    "          'schTotalCnt':'',\n",
    "          'serviceSe':'F00102',\n",
    "          'startDt':'20190120,2018',\n",
    "          'startHh':'01',\n",
    "          'startMt':'01',\n",
    "          'startYear':search_year,\n",
    "          'stnIds':jijum_name,\n",
    "          'txtElementNm':'평균풍속,평균운량,평균기온,일조시간합,전천일사합',\n",
    "          'txtStnNm':\"추풍령\",\n",
    "          'upperCmmnCode':'F005'\n",
    "          }\n",
    "params =  urllib.parse.urlencode(values)\n",
    "url = url + \"?\"+params\n",
    "browser.get(url)\n",
    "time.sleep(5)\n",
    "\n",
    "html = browser.page_source"
   ]
  },
  {
   "cell_type": "code",
   "execution_count": 22,
   "metadata": {},
   "outputs": [
    {
     "name": "stdout",
     "output_type": "stream",
     "text": [
      "북춘천(93) 1 -6.0 1.3 3.9 203.0 297.61\n",
      "북춘천(93) 2 -3.4 1.5 3.6 214.2 345.45\n",
      "북춘천(93) 3 7.0 1.8 4.6 204.3 434.45\n",
      "북춘천(93) 4 12.0 1.9 4.9 218.7 505.89\n",
      "북춘천(93) 5 17.2 1.7 5.4 233.2 577.58\n",
      "북춘천(93) 6 22.6 1.5 5.6 252.8 628.31\n",
      "북춘천(93) 7 26.3 1.3 5.0 243.9 520.07\n",
      "북춘천(93) 8 26.9 1.3 6.1 223.0 464.48\n",
      "북춘천(93) 9 19.1 1.1 5.4 205.5 397.14\n",
      "북춘천(93) 10 10.3 1.1 4.5 200.3 314.48\n",
      "북춘천(93) 11 5.1 0.7 5.1 148.2 206.42\n",
      "북춘천(93) 12 -3.2 1.0 3.9 194.9 216.07\n"
     ]
    }
   ],
   "source": [
    "\n",
    "#가상브라우져에서 해당  Html파일을 추출한다.\n",
    "weather_data = pd.read_html(html,header=0)\n",
    "weather_data = pd.DataFrame(weather_data[1])\n",
    "browser.quit()\n",
    "\n",
    "weather_data['위도'] = lat\n",
    "weather_data['경도'] = long\n",
    "weather_data['시간'] = 1,2,3,4,5,6,7,8,9,10,11,12\n",
    "\n",
    "row=98\n",
    "\n",
    "for col in range(0,12) :\n",
    "    print( weather_data.iloc[col,0],col+1, weather_data.iloc[col,2],weather_data.iloc[col,3],weather_data.iloc[col,4],weather_data.iloc[col,5],weather_data.iloc[col,6])\n",
    "\n",
    "#print(weather_data.iloc[0,2],weather_data.iloc[1,2],weather_data.iloc[2,2],weather_data.iloc[3,2],weather_data.iloc[4,2],weather_data.iloc[5,2],weather_data.iloc[6,2],weather_data.iloc[7,2],weather_data.iloc[8,2],weather_data.iloc[9,2],weather_data.iloc[10,2],weather_data.iloc[11,2])\n",
    "#print(weather_data.iloc[0,3],weather_data.iloc[1,3],weather_data.iloc[2,3],weather_data.iloc[3,3],weather_data.iloc[4,3],weather_data.iloc[5,3],weather_data.iloc[6,3],weather_data.iloc[7,3],weather_data.iloc[8,3],weather_data.iloc[9,3],weather_data.iloc[10,3],weather_data.iloc[11,3])\n",
    "    #print(row,col+1,  weather_data.iloc[col,0],weather_data.iloc[col,1],weather_data.iloc[col,2],weather_data.iloc[col,3])"
   ]
  },
  {
   "cell_type": "code",
   "execution_count": 23,
   "metadata": {},
   "outputs": [],
   "source": [
    "\n",
    "outputfile ='weather_data.csv'\n",
    "weather_data.to_csv(outputfile, encoding='EUC-KR', index=False)\n",
    "\n",
    "\n",
    "browser.quit()"
   ]
  },
  {
   "cell_type": "code",
   "execution_count": null,
   "metadata": {},
   "outputs": [],
   "source": []
  }
 ],
 "metadata": {
  "kernelspec": {
   "display_name": "Python 3",
   "language": "python",
   "name": "python3"
  },
  "language_info": {
   "codemirror_mode": {
    "name": "ipython",
    "version": 3
   },
   "file_extension": ".py",
   "mimetype": "text/x-python",
   "name": "python",
   "nbconvert_exporter": "python",
   "pygments_lexer": "ipython3",
   "version": "3.6.3"
  }
 },
 "nbformat": 4,
 "nbformat_minor": 2
}

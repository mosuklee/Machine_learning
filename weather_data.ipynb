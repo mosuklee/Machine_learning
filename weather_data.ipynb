{
 "cells": [
  {
   "cell_type": "code",
   "execution_count": 167,
   "metadata": {},
   "outputs": [],
   "source": [
    "from selenium import webdriver\n",
    "from bs4 import BeautifulSoup\n",
    "from urllib.request import urlopen\n",
    "import pandas as pd\n",
    "import re\n",
    "import urllib.parse\n",
    "import time"
   ]
  },
  {
   "cell_type": "code",
   "execution_count": null,
   "metadata": {},
   "outputs": [],
   "source": []
  },
  {
   "cell_type": "code",
   "execution_count": 168,
   "metadata": {},
   "outputs": [
    {
     "data": {
      "text/plain": [
       "'168_119'"
      ]
     },
     "execution_count": 168,
     "metadata": {},
     "output_type": "execute_result"
    }
   ],
   "source": [
    "jijum_name = '119'\n",
    "search_year = \"2016\"\n",
    "jijum_name = \"168_\"+jijum_name\n",
    "jijum_name"
   ]
  },
  {
   "cell_type": "code",
   "execution_count": 169,
   "metadata": {},
   "outputs": [],
   "source": [
    "#C rome driver를 가상브라우져에 뛰우기 -----(1)\n",
    "browser = webdriver.Chrome (\"C:/webdriver/chromedriver\")\n",
    "# 3초 대기하기 ----(2)\n",
    "browser.implicitly_wait(3)"
   ]
  },
  {
   "cell_type": "code",
   "execution_count": 170,
   "metadata": {},
   "outputs": [],
   "source": [
    "\n",
    "url = \"https://data.kma.go.kr/data/grnd/selectAsosRltmList.do\"\n",
    "values = {\n",
    "          'pgmNo':'36',\n",
    "          'cmmnCdList':'F00501,F00502,F00503,F00512,F00513',\n",
    "          'dataFormCd':'F00513',\n",
    "          'dataReqstFileSn':\"\",\n",
    "          'dataReqstSn':\"\",\n",
    "          'dwldSetupPd':'0',\n",
    "          'elementCds':'SFC01048001,SFC01052001',\n",
    "          'elementGroupSn':\"\",\n",
    "          'elementGroupSns':'302,303',\n",
    "          'endDt':'20181215,2017',\n",
    "          'endHh':'00', \n",
    "          'endMt':'12',\n",
    "          'endYear':search_year,\n",
    "          'firstLoading':'N',\n",
    "          'lrgClssCd':'SFC',\n",
    "          'mddlClssCd':'SFC01',\n",
    "          'menuNo':'32',\n",
    "          'pageIndex':'1',\n",
    "          'pageRowCount':'31',\n",
    "          'schListCnt':'100',\n",
    "          'schTotalCnt':'12',\n",
    "          'serviceSe':'F00102',\n",
    "          'startDt':'20181209,2017',\n",
    "          'startHh':'01',\n",
    "          'startMt':'01',\n",
    "          'startYear':search_year,\n",
    "          'stnIds':jijum_name,\n",
    "          'txtElementNm':'평균기온,평균상대습도',\n",
    "          'txtStnNm':\"진주\",\n",
    "          'upperCmmnCode':'F005'\n",
    "          }\n",
    "params =  urllib.parse.urlencode(values)\n",
    "url = url + \"?\"+params\n",
    "browser.get(url)\n",
    "time.sleep(5)\n",
    "\n",
    "html = browser.page_source"
   ]
  },
  {
   "cell_type": "code",
   "execution_count": 166,
   "metadata": {},
   "outputs": [
    {
     "name": "stdout",
     "output_type": "stream",
     "text": [
      "98 1 -2.1\n",
      "98 2 0.9\n",
      "98 3 7.0\n",
      "98 4 13.9\n",
      "98 5 19.1\n",
      "98 6 23.2\n",
      "98 7 26.0\n",
      "98 8 27.7\n",
      "98 9 22.7\n",
      "98 10 15.7\n",
      "98 11 7.0\n",
      "98 12 1.7\n"
     ]
    }
   ],
   "source": [
    "\n",
    "#가상브라우져에서 해당  Html파일을 추출한다.\n",
    "weather_data = pd.read_html(html,header=0)\n",
    "weather_data = pd.DataFrame(weather_data[1])\n",
    "browser.quit()\n",
    "weather_data\n",
    "\n",
    "row=98\n",
    "\n",
    "for col in range(0,12) :\n",
    "    print(row,col+1,  weather_data.iloc[col,2])\n",
    "\n",
    "#print(weather_data.iloc[0,2],weather_data.iloc[1,2],weather_data.iloc[2,2],weather_data.iloc[3,2],weather_data.iloc[4,2],weather_data.iloc[5,2],weather_data.iloc[6,2],weather_data.iloc[7,2],weather_data.iloc[8,2],weather_data.iloc[9,2],weather_data.iloc[10,2],weather_data.iloc[11,2])\n",
    "#print(weather_data.iloc[0,3],weather_data.iloc[1,3],weather_data.iloc[2,3],weather_data.iloc[3,3],weather_data.iloc[4,3],weather_data.iloc[5,3],weather_data.iloc[6,3],weather_data.iloc[7,3],weather_data.iloc[8,3],weather_data.iloc[9,3],weather_data.iloc[10,3],weather_data.iloc[11,3])\n",
    "    #print(row,col+1,  weather_data.iloc[col,0],weather_data.iloc[col,1],weather_data.iloc[col,2],weather_data.iloc[col,3])"
   ]
  },
  {
   "cell_type": "code",
   "execution_count": null,
   "metadata": {},
   "outputs": [],
   "source": [
    "\n",
    "outputfile ='oil_price.csv'\n",
    "dft.to_csv(outputfile, encoding='UTF-8', index=False)\n",
    "\n",
    "\n",
    "browser.quit()"
   ]
  }
 ],
 "metadata": {
  "kernelspec": {
   "display_name": "Python 3",
   "language": "python",
   "name": "python3"
  },
  "language_info": {
   "codemirror_mode": {
    "name": "ipython",
    "version": 3
   },
   "file_extension": ".py",
   "mimetype": "text/x-python",
   "name": "python",
   "nbconvert_exporter": "python",
   "pygments_lexer": "ipython3",
   "version": "3.6.3"
  }
 },
 "nbformat": 4,
 "nbformat_minor": 2
}

{
 "cells": [
  {
   "cell_type": "markdown",
   "metadata": {},
   "source": [
    "# 기상자료에 따른 일사량 예측 (Machine Learning)\n",
    "* EDA분석을 마친 train Data를 이용하여 기상자료에 따른 일사량 값을 예측한다.\n",
    "* 값을 예측하는 알고리즘은 RandomForest을 사용한다."
   ]
  },
  {
   "cell_type": "markdown",
   "metadata": {},
   "source": [
    "# Load Dataset"
   ]
  },
  {
   "cell_type": "code",
   "execution_count": 298,
   "metadata": {},
   "outputs": [],
   "source": [
    "import pandas as pd\n",
    "import numpy as np\n",
    "\n",
    "import matplotlib as mpl\n",
    "import matplotlib.pyplot as plt\n",
    "import seaborn as sns\n",
    "\n",
    "# 노트북 안에 그래프를 그리기 위해\n",
    "%matplotlib inline\n",
    "\n",
    "# 그래프에서 마이너스 폰트 깨지는 문제에 대한 대처\n",
    "mpl.rcParams['axes.unicode_minus'] = False\n",
    "\n",
    "import warnings\n",
    "warnings.filterwarnings('ignore')"
   ]
  },
  {
   "cell_type": "markdown",
   "metadata": {},
   "source": [
    "### Read the Train Data \n",
    "* EDA 검사를 마친 Data를 읽어들인다."
   ]
  },
  {
   "cell_type": "code",
   "execution_count": 299,
   "metadata": {},
   "outputs": [
    {
     "data": {
      "text/html": [
       "<div>\n",
       "<style>\n",
       "    .dataframe thead tr:only-child th {\n",
       "        text-align: right;\n",
       "    }\n",
       "\n",
       "    .dataframe thead th {\n",
       "        text-align: left;\n",
       "    }\n",
       "\n",
       "    .dataframe tbody tr th {\n",
       "        vertical-align: top;\n",
       "    }\n",
       "</style>\n",
       "<table border=\"1\" class=\"dataframe\">\n",
       "  <thead>\n",
       "    <tr style=\"text-align: right;\">\n",
       "      <th></th>\n",
       "      <th>Unnamed: 0</th>\n",
       "      <th>지점</th>\n",
       "      <th>시간</th>\n",
       "      <th>평균기온(°C)</th>\n",
       "      <th>평균풍속(m/s)</th>\n",
       "      <th>평균운량</th>\n",
       "      <th>일조시간합</th>\n",
       "      <th>전천일사합</th>\n",
       "      <th>위도</th>\n",
       "      <th>경도</th>\n",
       "    </tr>\n",
       "  </thead>\n",
       "  <tbody>\n",
       "    <tr>\n",
       "      <th>0</th>\n",
       "      <td>12</td>\n",
       "      <td>북춘천(93)</td>\n",
       "      <td>1</td>\n",
       "      <td>-6.0</td>\n",
       "      <td>1.3</td>\n",
       "      <td>3.9</td>\n",
       "      <td>203.0</td>\n",
       "      <td>297.61</td>\n",
       "      <td>37.9475</td>\n",
       "      <td>127.7547</td>\n",
       "    </tr>\n",
       "    <tr>\n",
       "      <th>1</th>\n",
       "      <td>13</td>\n",
       "      <td>북춘천(93)</td>\n",
       "      <td>2</td>\n",
       "      <td>-3.4</td>\n",
       "      <td>1.5</td>\n",
       "      <td>3.6</td>\n",
       "      <td>214.2</td>\n",
       "      <td>345.45</td>\n",
       "      <td>37.9475</td>\n",
       "      <td>127.7547</td>\n",
       "    </tr>\n",
       "    <tr>\n",
       "      <th>2</th>\n",
       "      <td>14</td>\n",
       "      <td>북춘천(93)</td>\n",
       "      <td>3</td>\n",
       "      <td>7.0</td>\n",
       "      <td>1.8</td>\n",
       "      <td>4.6</td>\n",
       "      <td>204.3</td>\n",
       "      <td>434.45</td>\n",
       "      <td>37.9475</td>\n",
       "      <td>127.7547</td>\n",
       "    </tr>\n",
       "    <tr>\n",
       "      <th>3</th>\n",
       "      <td>15</td>\n",
       "      <td>북춘천(93)</td>\n",
       "      <td>4</td>\n",
       "      <td>12.0</td>\n",
       "      <td>1.9</td>\n",
       "      <td>4.9</td>\n",
       "      <td>218.7</td>\n",
       "      <td>505.89</td>\n",
       "      <td>37.9475</td>\n",
       "      <td>127.7547</td>\n",
       "    </tr>\n",
       "    <tr>\n",
       "      <th>4</th>\n",
       "      <td>16</td>\n",
       "      <td>북춘천(93)</td>\n",
       "      <td>5</td>\n",
       "      <td>17.2</td>\n",
       "      <td>1.7</td>\n",
       "      <td>5.4</td>\n",
       "      <td>233.2</td>\n",
       "      <td>577.58</td>\n",
       "      <td>37.9475</td>\n",
       "      <td>127.7547</td>\n",
       "    </tr>\n",
       "  </tbody>\n",
       "</table>\n",
       "</div>"
      ],
      "text/plain": [
       "   Unnamed: 0       지점  시간  평균기온(°C)  평균풍속(m/s)  평균운량  일조시간합   전천일사합       위도  \\\n",
       "0          12  북춘천(93)   1      -6.0        1.3   3.9  203.0  297.61  37.9475   \n",
       "1          13  북춘천(93)   2      -3.4        1.5   3.6  214.2  345.45  37.9475   \n",
       "2          14  북춘천(93)   3       7.0        1.8   4.6  204.3  434.45  37.9475   \n",
       "3          15  북춘천(93)   4      12.0        1.9   4.9  218.7  505.89  37.9475   \n",
       "4          16  북춘천(93)   5      17.2        1.7   5.4  233.2  577.58  37.9475   \n",
       "\n",
       "         경도  \n",
       "0  127.7547  \n",
       "1  127.7547  \n",
       "2  127.7547  \n",
       "3  127.7547  \n",
       "4  127.7547  "
      ]
     },
     "execution_count": 299,
     "metadata": {},
     "output_type": "execute_result"
    }
   ],
   "source": [
    "# Train Data를 읽어들인다.\n",
    "train = pd.read_csv(\"./train_EDA.csv\",encoding='EUC-KR')\n",
    "train.head()"
   ]
  },
  {
   "cell_type": "markdown",
   "metadata": {},
   "source": [
    "### Read the Test Data\n",
    "* Test할 Data를 읽어들인다."
   ]
  },
  {
   "cell_type": "code",
   "execution_count": 300,
   "metadata": {},
   "outputs": [],
   "source": [
    "# Test Data를 읽어들인다.\n",
    "test = pd.read_csv(\"./test_ML.csv\",encoding='EUC-KR')"
   ]
  },
  {
   "cell_type": "markdown",
   "metadata": {},
   "source": [
    "# Feature Engineering\n",
    "### Feature 기준\n",
    "* count를 예측할 Feture : \"위도\", \"경도\", \"평균기온(°C)\", \"평균운량\", \"일조시간합\"\n"
   ]
  },
  {
   "cell_type": "markdown",
   "metadata": {},
   "source": [
    "## Feature Selection\n",
    "* 신호와 잡음을 구분해야 한다.\n",
    "* 피처가 많다고 해서 무조건 좋은 성능을 내지 않는다.\n",
    "* 피처를 하나씩 추가하고 변경해 가면서 성능이 좋지 않은 피처는 제거하도록 한다."
   ]
  },
  {
   "cell_type": "code",
   "execution_count": 301,
   "metadata": {},
   "outputs": [],
   "source": [
    "# 연속형 feature와 범주형 feature\n",
    "# 범주형 feature의 type을 category로 변경 해 준다.\n",
    "categorical_feature_names = [\"시간\"]"
   ]
  },
  {
   "cell_type": "code",
   "execution_count": 302,
   "metadata": {},
   "outputs": [],
   "source": [
    "for var in categorical_feature_names:\n",
    "    train[var] = train[var].astype(\"category\")\n",
    "    test[var] = test[var].astype(\"category\")"
   ]
  },
  {
   "cell_type": "code",
   "execution_count": 303,
   "metadata": {},
   "outputs": [],
   "source": [
    "feature_names = [\"위도\",\"경도\",\"시간\"]"
   ]
  },
  {
   "cell_type": "code",
   "execution_count": 304,
   "metadata": {},
   "outputs": [
    {
     "name": "stdout",
     "output_type": "stream",
     "text": [
      "(497, 3)\n"
     ]
    },
    {
     "data": {
      "text/html": [
       "<div>\n",
       "<style>\n",
       "    .dataframe thead tr:only-child th {\n",
       "        text-align: right;\n",
       "    }\n",
       "\n",
       "    .dataframe thead th {\n",
       "        text-align: left;\n",
       "    }\n",
       "\n",
       "    .dataframe tbody tr th {\n",
       "        vertical-align: top;\n",
       "    }\n",
       "</style>\n",
       "<table border=\"1\" class=\"dataframe\">\n",
       "  <thead>\n",
       "    <tr style=\"text-align: right;\">\n",
       "      <th></th>\n",
       "      <th>위도</th>\n",
       "      <th>경도</th>\n",
       "      <th>시간</th>\n",
       "    </tr>\n",
       "  </thead>\n",
       "  <tbody>\n",
       "    <tr>\n",
       "      <th>0</th>\n",
       "      <td>37.9475</td>\n",
       "      <td>127.7547</td>\n",
       "      <td>1</td>\n",
       "    </tr>\n",
       "    <tr>\n",
       "      <th>1</th>\n",
       "      <td>37.9475</td>\n",
       "      <td>127.7547</td>\n",
       "      <td>2</td>\n",
       "    </tr>\n",
       "    <tr>\n",
       "      <th>2</th>\n",
       "      <td>37.9475</td>\n",
       "      <td>127.7547</td>\n",
       "      <td>3</td>\n",
       "    </tr>\n",
       "    <tr>\n",
       "      <th>3</th>\n",
       "      <td>37.9475</td>\n",
       "      <td>127.7547</td>\n",
       "      <td>4</td>\n",
       "    </tr>\n",
       "    <tr>\n",
       "      <th>4</th>\n",
       "      <td>37.9475</td>\n",
       "      <td>127.7547</td>\n",
       "      <td>5</td>\n",
       "    </tr>\n",
       "  </tbody>\n",
       "</table>\n",
       "</div>"
      ],
      "text/plain": [
       "        위도        경도 시간\n",
       "0  37.9475  127.7547  1\n",
       "1  37.9475  127.7547  2\n",
       "2  37.9475  127.7547  3\n",
       "3  37.9475  127.7547  4\n",
       "4  37.9475  127.7547  5"
      ]
     },
     "execution_count": 304,
     "metadata": {},
     "output_type": "execute_result"
    }
   ],
   "source": [
    "X_train = train[feature_names]\n",
    "\n",
    "print(X_train.shape)\n",
    "X_train.head()"
   ]
  },
  {
   "cell_type": "code",
   "execution_count": 305,
   "metadata": {},
   "outputs": [
    {
     "name": "stdout",
     "output_type": "stream",
     "text": [
      "(497, 3)\n"
     ]
    },
    {
     "data": {
      "text/html": [
       "<div>\n",
       "<style>\n",
       "    .dataframe thead tr:only-child th {\n",
       "        text-align: right;\n",
       "    }\n",
       "\n",
       "    .dataframe thead th {\n",
       "        text-align: left;\n",
       "    }\n",
       "\n",
       "    .dataframe tbody tr th {\n",
       "        vertical-align: top;\n",
       "    }\n",
       "</style>\n",
       "<table border=\"1\" class=\"dataframe\">\n",
       "  <thead>\n",
       "    <tr style=\"text-align: right;\">\n",
       "      <th></th>\n",
       "      <th>위도</th>\n",
       "      <th>경도</th>\n",
       "      <th>시간</th>\n",
       "    </tr>\n",
       "  </thead>\n",
       "  <tbody>\n",
       "    <tr>\n",
       "      <th>0</th>\n",
       "      <td>37.9475</td>\n",
       "      <td>127.7547</td>\n",
       "      <td>1</td>\n",
       "    </tr>\n",
       "    <tr>\n",
       "      <th>1</th>\n",
       "      <td>37.9475</td>\n",
       "      <td>127.7547</td>\n",
       "      <td>2</td>\n",
       "    </tr>\n",
       "    <tr>\n",
       "      <th>2</th>\n",
       "      <td>37.9475</td>\n",
       "      <td>127.7547</td>\n",
       "      <td>3</td>\n",
       "    </tr>\n",
       "    <tr>\n",
       "      <th>3</th>\n",
       "      <td>37.9475</td>\n",
       "      <td>127.7547</td>\n",
       "      <td>4</td>\n",
       "    </tr>\n",
       "    <tr>\n",
       "      <th>4</th>\n",
       "      <td>37.9475</td>\n",
       "      <td>127.7547</td>\n",
       "      <td>5</td>\n",
       "    </tr>\n",
       "  </tbody>\n",
       "</table>\n",
       "</div>"
      ],
      "text/plain": [
       "        위도        경도 시간\n",
       "0  37.9475  127.7547  1\n",
       "1  37.9475  127.7547  2\n",
       "2  37.9475  127.7547  3\n",
       "3  37.9475  127.7547  4\n",
       "4  37.9475  127.7547  5"
      ]
     },
     "execution_count": 305,
     "metadata": {},
     "output_type": "execute_result"
    }
   ],
   "source": [
    "X_test = test[feature_names]\n",
    "\n",
    "print(X_test.shape)\n",
    "X_test.head()"
   ]
  },
  {
   "cell_type": "code",
   "execution_count": 306,
   "metadata": {},
   "outputs": [
    {
     "data": {
      "text/plain": [
       "0    297.61\n",
       "1    345.45\n",
       "2    434.45\n",
       "3    505.89\n",
       "4    577.58\n",
       "Name: 전천일사합, dtype: float64"
      ]
     },
     "execution_count": 306,
     "metadata": {},
     "output_type": "execute_result"
    }
   ],
   "source": [
    "label_name = \"전천일사합\"\n",
    "\n",
    "y_train = train[label_name]\n",
    "y_train.head()"
   ]
  },
  {
   "cell_type": "markdown",
   "metadata": {},
   "source": [
    "## EVALUATION"
   ]
  },
  {
   "cell_type": "markdown",
   "metadata": {},
   "source": [
    "### RNSLE 검증\n",
    "과대평가 된 항목보다는 과소평가 된 항목에 패널티를 준다.\n",
    "\n",
    "오차(Error)를 제곱(Square)해서 평균(Mean)한 값의 제곱근(Root) 으로 값이 작을 수록 정밀도가 높다. \n",
    "\n",
    "0에 가까운 값이 나올 수록 정밀도가 높은 값이다.\n",
    "\n",
    "Submissions are evaluated one the Root Mean Squared Logarithmic Error (RMSLE)"
   ]
  },
  {
   "cell_type": "markdown",
   "metadata": {},
   "source": [
    "$$ \\sqrt{\\frac{1}{n} \\sum_{i=1}^n (\\log(p_i + 1) - \\log(a_i+1))^2 } $$"
   ]
  },
  {
   "cell_type": "markdown",
   "metadata": {},
   "source": [
    "* \\\\({n}\\\\) is the number of hours in the test set\n",
    "* \\\\(p_i\\\\) is your predicted count\n",
    "* \\\\(a_i\\\\) is the actual count\n",
    "* \\\\(\\log(x)\\\\) is the natural logarithm\n",
    "\n",
    "* 좀 더 자세한 설명은 : [RMSLE cost function](https://www.slideshare.net/KhorSoonHin/rmsle-cost-function)\n",
    "\n",
    "* 잔차(residual)에 대한 평균에 로그를 씌운 값이다. => 과대평가 된 항목보다 과소 평가 된 항목에 패널티를 주기위해\n",
    "* 정답에 대한 오류를 숫자로 나타낸 값으로 값이 클 수록 오차가 크다는 의미다.\n",
    "* 값이 작을 수록 오류가 적다는 의미를 나타낸다.\n",
    "\n",
    "![image.png](https://upload.wikimedia.org/wikipedia/commons/thumb/7/73/Logarithms.svg/456px-Logarithms.svg.png)\n",
    "이미지 출처 : 위키피디아 https://ko.wikipedia.org/wiki/로그"
   ]
  },
  {
   "cell_type": "code",
   "execution_count": 307,
   "metadata": {},
   "outputs": [
    {
     "data": {
      "text/plain": [
       "make_scorer(rmsle)"
      ]
     },
     "execution_count": 307,
     "metadata": {},
     "output_type": "execute_result"
    }
   ],
   "source": [
    "from sklearn.metrics import make_scorer\n",
    "\n",
    "def rmsle(predicted_values, actual_values):\n",
    "    # 넘파이로 배열 형태로 바꿔준다.\n",
    "    predicted_values = np.array(predicted_values)\n",
    "    actual_values = np.array(actual_values)\n",
    "    \n",
    "    # 예측값과 실제 값에 1을 더하고 로그를 씌워준다.\n",
    "    log_predict = np.log(predicted_values + 1)\n",
    "    log_actual = np.log(actual_values + 1)\n",
    "    \n",
    "    # 위에서 계산한 예측값에서 실제값을 빼주고 제곱을 해준다.\n",
    "    difference = log_predict - log_actual\n",
    "    # difference = (log_predict - log_actual) ** 2\n",
    "    difference = np.square(difference)\n",
    "    \n",
    "    # 평균을 낸다.\n",
    "    mean_difference = difference.mean()\n",
    "    \n",
    "    # 다시 루트를 씌운다.\n",
    "    score = np.sqrt(mean_difference)\n",
    "    \n",
    "    return score\n",
    "\n",
    "rmsle_scorer = make_scorer(rmsle)\n",
    "rmsle_scorer"
   ]
  },
  {
   "cell_type": "markdown",
   "metadata": {},
   "source": [
    "### Cross Validation 교차 검증\n",
    "* 일반화 성능을 측정하기 위해 데이터를 여러 번 반복해서 나누고 여러 모델을 학습한다.\n",
    "![image.png](https://www.researchgate.net/profile/Halil_Bisgin/publication/228403467/figure/fig2/AS:302039595798534@1449023259454/Figure-4-k-fold-cross-validation-scheme-example.png)\n",
    "이미지 출처 : https://www.researchgate.net/figure/228403467_fig2_Figure-4-k-fold-cross-validation-scheme-example\n",
    "\n",
    "\n",
    "* KFold 교차검증 \n",
    "    * 데이터를 폴드라 부르는 비슷한 크기의 부분집합(n_splits)으로 나누고 각각의 폴드 정확도를 측정한다.\n",
    "    * 첫 번째 폴드를 테스트 세트로 사용하고 나머지 폴드를 훈련세트로 사용하여 학습한다.\n",
    "    * 나머지 훈련세트로 만들어진 세트의 정확도를 첫 번째 폴드로 평가한다.\n",
    "    * 다음은 두 번째 폴드가 테스트 세트가 되고 나머지 폴드의 훈련세트를 두 번째 폴드로 정확도를 측정한다.\n",
    "    * 이 과정을 마지막 폴드까지 반복한다.\n",
    "    * 이렇게 훈련세트와 테스트세트로 나누는 N개의 분할마다 정확도를 측정하여 평균 값을 낸게 정확도가 된다."
   ]
  },
  {
   "cell_type": "code",
   "execution_count": 308,
   "metadata": {},
   "outputs": [],
   "source": [
    "from sklearn.model_selection import KFold\n",
    "from sklearn.model_selection import cross_val_score\n",
    "\n",
    "k_fold = KFold(n_splits=10, shuffle=True, random_state=0)"
   ]
  },
  {
   "cell_type": "markdown",
   "metadata": {},
   "source": [
    "## ALGORITHM\n",
    "### RandomForest"
   ]
  },
  {
   "cell_type": "code",
   "execution_count": 309,
   "metadata": {},
   "outputs": [
    {
     "data": {
      "text/plain": [
       "RandomForestRegressor(bootstrap=True, criterion='mse', max_depth=None,\n",
       "           max_features='auto', max_leaf_nodes=None,\n",
       "           min_impurity_decrease=0.0, min_impurity_split=None,\n",
       "           min_samples_leaf=1, min_samples_split=2,\n",
       "           min_weight_fraction_leaf=0.0, n_estimators=100, n_jobs=-1,\n",
       "           oob_score=False, random_state=0, verbose=0, warm_start=False)"
      ]
     },
     "execution_count": 309,
     "metadata": {},
     "output_type": "execute_result"
    }
   ],
   "source": [
    "from sklearn.ensemble import RandomForestRegressor\n",
    "\n",
    "max_depth_list = []\n",
    "\n",
    "model = RandomForestRegressor(n_estimators=100,\n",
    "                              n_jobs=-1,\n",
    "                              random_state=0)\n",
    "model"
   ]
  },
  {
   "cell_type": "code",
   "execution_count": 310,
   "metadata": {},
   "outputs": [
    {
     "name": "stdout",
     "output_type": "stream",
     "text": [
      "Wall time: 2.67 s\n",
      "Score= 0.15603\n"
     ]
    }
   ],
   "source": [
    "%time score = cross_val_score(model, X_train, y_train, cv=k_fold, scoring=rmsle_scorer)\n",
    "score = score.mean()\n",
    "# 0에 근접할수록 좋은 데이터\n",
    "print(\"Score= {0:.5f}\".format(score))"
   ]
  },
  {
   "cell_type": "markdown",
   "metadata": {},
   "source": [
    "### Velidation 자료 검토\n",
    "* ml을 예측하기 전에 Feature를 변경해 가면서 Score를 확인한다.\n",
    "* \"전천일사합\"과 상관관계가 높은 자료등을 기준으로 가장 Score가 낮나올때까지 상관관계가 낮은 순서대로 Future에서 제외시킨다."
   ]
  },
  {
   "cell_type": "markdown",
   "metadata": {},
   "source": [
    "## Train / Predictions"
   ]
  },
  {
   "cell_type": "code",
   "execution_count": 311,
   "metadata": {},
   "outputs": [
    {
     "data": {
      "text/plain": [
       "RandomForestRegressor(bootstrap=True, criterion='mse', max_depth=None,\n",
       "           max_features='auto', max_leaf_nodes=None,\n",
       "           min_impurity_decrease=0.0, min_impurity_split=None,\n",
       "           min_samples_leaf=1, min_samples_split=2,\n",
       "           min_weight_fraction_leaf=0.0, n_estimators=100, n_jobs=-1,\n",
       "           oob_score=False, random_state=0, verbose=0, warm_start=False)"
      ]
     },
     "execution_count": 311,
     "metadata": {},
     "output_type": "execute_result"
    }
   ],
   "source": [
    "# 학습시킴, 피팅(옷을 맞출 때 사용하는 피팅을 생각함) - 피처와 레이블을 넣어주면 알아서 학습을 함\n",
    "model.fit(X_train, y_train)"
   ]
  },
  {
   "cell_type": "code",
   "execution_count": 312,
   "metadata": {},
   "outputs": [
    {
     "name": "stdout",
     "output_type": "stream",
     "text": [
      "[ 293.725   343.6403  432.3838  509.0614  577.5678  609.3927  556.5467\n",
      "  503.4045  394.7309  329.311   216.1577  219.3882  302.868   354.339\n",
      "  444.8854  550.7466  567.3547  599.7814  568.9681  488.7951  372.6585\n",
      "  361.8951  241.6868  242.0658  279.7634  331.1764  424.3299  505.3618\n",
      "  571.8115  619.5643  588.827   524.5044  426.8816  348.2839  215.8406\n",
      "  222.5409  606.363   622.0517  606.0807  605.0297  508.9747  456.8669\n",
      "  259.515   228.8121  304.6324  357.8367  434.38    540.5486  549.8808\n",
      "  603.2983  581.8274  471.8057  409.8127  391.4687  251.9417  257.5957\n",
      "  308.7805  362.8285  442.3541  556.2288  573.4554  627.4144  603.4957\n",
      "  488.5584  424.68    408.3914  267.1615  271.6187  191.9198  297.1374\n",
      "  441.8119  512.9849  564.9157  597.8717  575.8411  524.5542  465.889\n",
      "  404.9026  262.9478  253.4569  184.9997  268.2223  444.0544  516.3255\n",
      "  572.8914  608.7367  618.9587  555.574   460.9777  409.4908  268.848\n",
      "  255.4113  298.5931  344.0756  450.8472  525.0615  581.3286  619.8953\n",
      "  621.8375  531.5909  445.7538  394.6581  269.2364  256.4738  155.9524\n",
      "  201.1589  334.0581  391.3828  404.5505  396.2459  411.8687  389.7518\n",
      "  283.6202  283.1598  183.21    156.5084  229.8051  287.8938  416.862\n",
      "  505.0345  572.0737  609.4323  613.8902  549.6532  461.6146  402.4131\n",
      "  269.9858  254.6419  231.1158  327.9557  461.8449  549.2371  599.0279\n",
      "  615.9439  639.1598  577.8452  489.8783  434.4231  279.8394  258.3324\n",
      "  251.9308  303.4974  435.2472  552.2281  619.7307  635.5574  643.5464\n",
      "  561.8412  467.0269  416.7368  278.402   263.2191  223.6366  277.4647\n",
      "  478.7935  539.6651  650.6666  670.7134  666.745   589.0584  479.6262\n",
      "  432.4199  292.5277  273.712   305.2851  349.4446  469.4706  549.1431\n",
      "  589.0757  597.3568  615.1863  538.522   423.1917  417.7055  286.5756\n",
      "  264.5845  299.634   358.4343  452.7606  587.2652  642.3935  641.0405\n",
      "  682.1881  573.3628  426.2186  428.2513  283.3304  275.2895  198.9157\n",
      "  230.4097  356.7927  545.1678  546.7998  542.4917  573.7651  513.3312\n",
      "  348.5536  381.1288  277.1761  251.4417  308.3248  355.1865  469.2469\n",
      "  562.5853  574.3196  580.8614  601.7846  546.5202  403.2265  416.3135\n",
      "  287.4883  263.2711  254.146   318.4389  468.3631  558.7127  606.2554\n",
      "  628.8992  656.8202  578.2606  457.5448  422.4533  288.9824  259.5284\n",
      "  301.699   358.6998  448.8634  572.6202  573.6112  599.4137  643.353\n",
      "  536.0935  384.0133  434.307   328.2863  291.4153  273.9459  334.1251\n",
      "  428.7491  570.0563  577.3853  621.9108  650.7819  583.6459  432.2159\n",
      "  440.303   325.7094  283.9293  282.1892  322.2766  324.1481  387.5269\n",
      "  337.3401  466.3893  454.679   244.458   358.8031  315.7406  284.9459\n",
      "  238.6999  279.2456  403.335   503.6998  536.4306  605.5596  653.0103\n",
      "  577.4465  440.469   432.3094  301.551   230.1981  244.2436  288.528\n",
      "  379.8994  472.8346  503.7442  532.701   589.0514  539.8307  364.1446\n",
      "  395.7763  254.6719  224.4016  226.0232  299.6116  427.3645  509.4708\n",
      "  502.2987  502.8202  498.8175  453.5247  393.9087  417.2696  286.9304\n",
      "  204.4653  208.4622  257.5497  366.1207  413.0598  429.3421  447.9099\n",
      "  486.2499  451.8276  347.6348  336.2243  232.8123  199.5461  254.7104\n",
      "  327.175   452.7797  542.4583  595.3269  615.6603  642.1842  558.8425\n",
      "  464.5124  413.5378  270.3879  253.6956  185.9547  255.5212  422.5701\n",
      "  504.7331  533.3276  591.1757  569.8527  383.1841  395.2227  289.2868\n",
      "  234.6465  224.254   279.3117  361.3039  531.8379  551.9965  572.7146\n",
      "  615.8391  531.9991  384.8763  419.5886  306.7524  282.9433  172.3264\n",
      "  202.964   263.2685  294.3518  336.6624  362.4069  384.4639  354.3455\n",
      "  288.5169  271.7387  203.0316  172.1874  244.4271  304.3721  454.0396\n",
      "  569.6203  571.9209  621.7497  679.5703  600.3641  459.1834  446.1068\n",
      "  291.0452  228.3821  235.4569  278.39    359.5304  465.4839  453.8145\n",
      "  485.3102  512.6349  477.6268  283.7731  322.6143  251.0154  217.8309\n",
      "  217.0458  245.6163  340.0737  361.3026  389.5674  412.4403  428.7879\n",
      "  400.834   307.8421  295.6226  220.8101  201.5772  242.9505  281.5714\n",
      "  352.1985  367.9094  367.4807  383.1135  384.828   348.9039  251.433\n",
      "  289.0885  214.3793  193.356   217.2315  241.7586  276.1478  288.6583\n",
      "  290.3758  287.8578  269.6707  248.4153  229.5762  272.7331  212.8268\n",
      "  189.4357  216.6948  237.6617  321.8886  343.5204  353.5437  372.5363\n",
      "  406.2068  373.8927  313.6553  230.7912  196.1297  287.1944  309.3845\n",
      "  362.415   345.6371  331.754   315.2686  318.2648  281.6122  297.7916\n",
      "  349.5837  323.081   333.7757  295.8942  347.8073  452.2413  552.4355\n",
      "  561.508   571.8494  612.2345  554.0994  385.5602  415.4913  274.7201\n",
      "  245.6511  294.4655  339.7745  454.6897  554.8469  597.549   612.0595\n",
      "  622.2316  538.3471  405.8277  406.0596  277.2898  247.5168  301.2505\n",
      "  346.7181  437.5445  542.2095  556.0319  587.1862  602.1373  539.5423\n",
      "  406.9783  437.6159  312.9284  272.5096  281.0659  333.6192  442.053\n",
      "  559.294   579.0497  578.7264  607.6465  531.3378  359.1023  384.5417\n",
      "  279.0638  267.5228  208.4222  240.7301  322.7212  532.0146  526.3769\n",
      "  521.3652  555.9128  511.5273  344.5145  384.2267  279.9937  256.0341]\n"
     ]
    }
   ],
   "source": [
    "# 예측\n",
    "predictions = (model.predict(X_test))\n",
    "print(predictions)"
   ]
  },
  {
   "cell_type": "code",
   "execution_count": 313,
   "metadata": {},
   "outputs": [
    {
     "data": {
      "text/plain": [
       "[Text(0.5,1,'test')]"
      ]
     },
     "execution_count": 313,
     "metadata": {},
     "output_type": "execute_result"
    },
    {
     "data": {
      "image/png": "[encoded data removed]",
      "text/plain": [
       "<matplotlib.figure.Figure at 0x20716214908>"
      ]
     },
     "metadata": {},
     "output_type": "display_data"
    }
   ],
   "source": [
    "# 예측한 데이터를 시각화 해본다. \n",
    "fig,(ax1,ax2)= plt.subplots(ncols=2)\n",
    "fig.set_size_inches(12,5)\n",
    "sns.distplot(y_train,ax=ax1,bins=50)\n",
    "ax1.set(title=\"train\")\n",
    "sns.distplot(predictions,ax=ax2,bins=50)\n",
    "ax2.set(title=\"test\")"
   ]
  },
  {
   "cell_type": "code",
   "execution_count": 314,
   "metadata": {},
   "outputs": [],
   "source": [
    "test_ml = test\n",
    "test_ml[\"전천일사합\"] = predictions"
   ]
  },
  {
   "cell_type": "code",
   "execution_count": 315,
   "metadata": {},
   "outputs": [],
   "source": [
    "test_ml.to_csv ( \"./predict_ML.csv\" )"
   ]
  },
  {
   "cell_type": "code",
   "execution_count": 316,
   "metadata": {},
   "outputs": [
    {
     "data": {
      "text/html": [
       "<div>\n",
       "<style>\n",
       "    .dataframe thead tr:only-child th {\n",
       "        text-align: right;\n",
       "    }\n",
       "\n",
       "    .dataframe thead th {\n",
       "        text-align: left;\n",
       "    }\n",
       "\n",
       "    .dataframe tbody tr th {\n",
       "        vertical-align: top;\n",
       "    }\n",
       "</style>\n",
       "<table border=\"1\" class=\"dataframe\">\n",
       "  <thead>\n",
       "    <tr style=\"text-align: right;\">\n",
       "      <th></th>\n",
       "      <th>지점</th>\n",
       "      <th>시간</th>\n",
       "      <th>전천일사합</th>\n",
       "      <th>위도</th>\n",
       "      <th>경도</th>\n",
       "    </tr>\n",
       "  </thead>\n",
       "  <tbody>\n",
       "    <tr>\n",
       "      <th>0</th>\n",
       "      <td>북춘천(93)</td>\n",
       "      <td>1</td>\n",
       "      <td>293.7250</td>\n",
       "      <td>37.9475</td>\n",
       "      <td>127.7547</td>\n",
       "    </tr>\n",
       "    <tr>\n",
       "      <th>1</th>\n",
       "      <td>북춘천(93)</td>\n",
       "      <td>2</td>\n",
       "      <td>343.6403</td>\n",
       "      <td>37.9475</td>\n",
       "      <td>127.7547</td>\n",
       "    </tr>\n",
       "    <tr>\n",
       "      <th>2</th>\n",
       "      <td>북춘천(93)</td>\n",
       "      <td>3</td>\n",
       "      <td>432.3838</td>\n",
       "      <td>37.9475</td>\n",
       "      <td>127.7547</td>\n",
       "    </tr>\n",
       "    <tr>\n",
       "      <th>3</th>\n",
       "      <td>북춘천(93)</td>\n",
       "      <td>4</td>\n",
       "      <td>509.0614</td>\n",
       "      <td>37.9475</td>\n",
       "      <td>127.7547</td>\n",
       "    </tr>\n",
       "    <tr>\n",
       "      <th>4</th>\n",
       "      <td>북춘천(93)</td>\n",
       "      <td>5</td>\n",
       "      <td>577.5678</td>\n",
       "      <td>37.9475</td>\n",
       "      <td>127.7547</td>\n",
       "    </tr>\n",
       "  </tbody>\n",
       "</table>\n",
       "</div>"
      ],
      "text/plain": [
       "        지점 시간     전천일사합       위도        경도\n",
       "0  북춘천(93)  1  293.7250  37.9475  127.7547\n",
       "1  북춘천(93)  2  343.6403  37.9475  127.7547\n",
       "2  북춘천(93)  3  432.3838  37.9475  127.7547\n",
       "3  북춘천(93)  4  509.0614  37.9475  127.7547\n",
       "4  북춘천(93)  5  577.5678  37.9475  127.7547"
      ]
     },
     "execution_count": 316,
     "metadata": {},
     "output_type": "execute_result"
    }
   ],
   "source": [
    "test_ml.head()"
   ]
  },
  {
   "cell_type": "code",
   "execution_count": 317,
   "metadata": {},
   "outputs": [
    {
     "name": "stdout",
     "output_type": "stream",
     "text": [
      "count    497.000000\n",
      "mean       0.948404\n",
      "std        6.862446\n",
      "min      -19.035315\n",
      "25%       -2.271568\n",
      "50%       -0.123705\n",
      "75%        2.420246\n",
      "max       47.929958\n",
      "Name: 전천일사합, dtype: float64\n"
     ]
    }
   ],
   "source": [
    "diff_rate = (test_ml[\"전천일사합\"]- train[\"전천일사합\"])/train[\"전천일사합\"]*100\n",
    "print(diff_rate.describe())"
   ]
  }
 ],
 "metadata": {
  "kernelspec": {
   "display_name": "Python 3",
   "language": "python",
   "name": "python3"
  },
  "language_info": {
   "codemirror_mode": {
    "name": "ipython",
    "version": 3
   },
   "file_extension": ".py",
   "mimetype": "text/x-python",
   "name": "python",
   "nbconvert_exporter": "python",
   "pygments_lexer": "ipython3",
   "version": "3.6.3"
  }
 },
 "nbformat": 4,
 "nbformat_minor": 2
}
